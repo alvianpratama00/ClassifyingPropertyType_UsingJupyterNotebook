{
 "cells": [
  {
   "cell_type": "markdown",
   "metadata": {},
   "source": [
    "# Data Preparation"
   ]
  },
  {
   "cell_type": "markdown",
   "metadata": {},
   "source": [
    "## Import Library"
   ]
  },
  {
   "cell_type": "code",
   "execution_count": 1,
   "metadata": {},
   "outputs": [],
   "source": [
    "import pandas as pd\n",
    "import seaborn as sn\n",
    "import matplotlib.pyplot as plt"
   ]
  },
  {
   "cell_type": "code",
   "execution_count": 2,
   "metadata": {},
   "outputs": [
    {
     "data": {
      "text/html": [
       "<div>\n",
       "<style scoped>\n",
       "    .dataframe tbody tr th:only-of-type {\n",
       "        vertical-align: middle;\n",
       "    }\n",
       "\n",
       "    .dataframe tbody tr th {\n",
       "        vertical-align: top;\n",
       "    }\n",
       "\n",
       "    .dataframe thead th {\n",
       "        text-align: right;\n",
       "    }\n",
       "</style>\n",
       "<table border=\"1\" class=\"dataframe\">\n",
       "  <thead>\n",
       "    <tr style=\"text-align: right;\">\n",
       "      <th></th>\n",
       "      <th>datesold</th>\n",
       "      <th>price</th>\n",
       "      <th>suburb</th>\n",
       "      <th>postcode</th>\n",
       "      <th>lat</th>\n",
       "      <th>lon</th>\n",
       "      <th>parking</th>\n",
       "      <th>bathrooms</th>\n",
       "      <th>bedrooms</th>\n",
       "      <th>propertyType</th>\n",
       "      <th>suburbid</th>\n",
       "    </tr>\n",
       "  </thead>\n",
       "  <tbody>\n",
       "    <tr>\n",
       "      <th>0</th>\n",
       "      <td>9/06/2000</td>\n",
       "      <td>223000.0</td>\n",
       "      <td>Nicholls</td>\n",
       "      <td>2913</td>\n",
       "      <td>NaN</td>\n",
       "      <td>NaN</td>\n",
       "      <td>2</td>\n",
       "      <td>2.0</td>\n",
       "      <td>4</td>\n",
       "      <td>house</td>\n",
       "      <td>ACT708</td>\n",
       "    </tr>\n",
       "    <tr>\n",
       "      <th>1</th>\n",
       "      <td>1/01/2001</td>\n",
       "      <td>350000.0</td>\n",
       "      <td>Ngunnawal</td>\n",
       "      <td>2913</td>\n",
       "      <td>NaN</td>\n",
       "      <td>NaN</td>\n",
       "      <td>1</td>\n",
       "      <td>NaN</td>\n",
       "      <td>3</td>\n",
       "      <td>house</td>\n",
       "      <td>ACT706</td>\n",
       "    </tr>\n",
       "    <tr>\n",
       "      <th>2</th>\n",
       "      <td>11/12/2003</td>\n",
       "      <td>550000.0</td>\n",
       "      <td>Weston</td>\n",
       "      <td>2611</td>\n",
       "      <td>NaN</td>\n",
       "      <td>NaN</td>\n",
       "      <td>2</td>\n",
       "      <td>NaN</td>\n",
       "      <td>4</td>\n",
       "      <td>house</td>\n",
       "      <td>ACT441</td>\n",
       "    </tr>\n",
       "    <tr>\n",
       "      <th>3</th>\n",
       "      <td>21/09/2005</td>\n",
       "      <td>276000.0</td>\n",
       "      <td>Isabella Plains</td>\n",
       "      <td>2905</td>\n",
       "      <td>NaN</td>\n",
       "      <td>NaN</td>\n",
       "      <td>1</td>\n",
       "      <td>1.0</td>\n",
       "      <td>3</td>\n",
       "      <td>house</td>\n",
       "      <td>ACT612</td>\n",
       "    </tr>\n",
       "    <tr>\n",
       "      <th>4</th>\n",
       "      <td>1/11/2005</td>\n",
       "      <td>400000.0</td>\n",
       "      <td>Conder</td>\n",
       "      <td>2906</td>\n",
       "      <td>NaN</td>\n",
       "      <td>NaN</td>\n",
       "      <td>2</td>\n",
       "      <td>NaN</td>\n",
       "      <td>5</td>\n",
       "      <td>house</td>\n",
       "      <td>ACT613</td>\n",
       "    </tr>\n",
       "    <tr>\n",
       "      <th>...</th>\n",
       "      <td>...</td>\n",
       "      <td>...</td>\n",
       "      <td>...</td>\n",
       "      <td>...</td>\n",
       "      <td>...</td>\n",
       "      <td>...</td>\n",
       "      <td>...</td>\n",
       "      <td>...</td>\n",
       "      <td>...</td>\n",
       "      <td>...</td>\n",
       "      <td>...</td>\n",
       "    </tr>\n",
       "    <tr>\n",
       "      <th>43173</th>\n",
       "      <td>21/09/2019</td>\n",
       "      <td>350000.0</td>\n",
       "      <td>Phillip</td>\n",
       "      <td>2606</td>\n",
       "      <td>-35.338702</td>\n",
       "      <td>149.084217</td>\n",
       "      <td>1</td>\n",
       "      <td>1.0</td>\n",
       "      <td>1</td>\n",
       "      <td>unit</td>\n",
       "      <td>ACT338</td>\n",
       "    </tr>\n",
       "    <tr>\n",
       "      <th>43174</th>\n",
       "      <td>23/09/2019</td>\n",
       "      <td>250000.0</td>\n",
       "      <td>Scullin</td>\n",
       "      <td>2614</td>\n",
       "      <td>-35.234051</td>\n",
       "      <td>149.042699</td>\n",
       "      <td>1</td>\n",
       "      <td>1.0</td>\n",
       "      <td>2</td>\n",
       "      <td>unit</td>\n",
       "      <td>ACT564</td>\n",
       "    </tr>\n",
       "    <tr>\n",
       "      <th>43175</th>\n",
       "      <td>23/09/2019</td>\n",
       "      <td>219000.0</td>\n",
       "      <td>O'Connor</td>\n",
       "      <td>2602</td>\n",
       "      <td>-35.264381</td>\n",
       "      <td>149.123139</td>\n",
       "      <td>1</td>\n",
       "      <td>1.0</td>\n",
       "      <td>1</td>\n",
       "      <td>unit</td>\n",
       "      <td>ACT103</td>\n",
       "    </tr>\n",
       "    <tr>\n",
       "      <th>43176</th>\n",
       "      <td>23/09/2019</td>\n",
       "      <td>320000.0</td>\n",
       "      <td>Turner</td>\n",
       "      <td>2612</td>\n",
       "      <td>-35.266120</td>\n",
       "      <td>149.126326</td>\n",
       "      <td>1</td>\n",
       "      <td>1.0</td>\n",
       "      <td>1</td>\n",
       "      <td>unit</td>\n",
       "      <td>ACT105</td>\n",
       "    </tr>\n",
       "    <tr>\n",
       "      <th>43177</th>\n",
       "      <td>23/09/2019</td>\n",
       "      <td>400000.0</td>\n",
       "      <td>City</td>\n",
       "      <td>2601</td>\n",
       "      <td>-35.282441</td>\n",
       "      <td>149.125022</td>\n",
       "      <td>1</td>\n",
       "      <td>1.0</td>\n",
       "      <td>1</td>\n",
       "      <td>unit</td>\n",
       "      <td>ACT108</td>\n",
       "    </tr>\n",
       "  </tbody>\n",
       "</table>\n",
       "<p>43178 rows × 11 columns</p>\n",
       "</div>"
      ],
      "text/plain": [
       "         datesold     price           suburb  postcode        lat         lon  \\\n",
       "0       9/06/2000  223000.0         Nicholls      2913        NaN         NaN   \n",
       "1       1/01/2001  350000.0        Ngunnawal      2913        NaN         NaN   \n",
       "2      11/12/2003  550000.0           Weston      2611        NaN         NaN   \n",
       "3      21/09/2005  276000.0  Isabella Plains      2905        NaN         NaN   \n",
       "4       1/11/2005  400000.0           Conder      2906        NaN         NaN   \n",
       "...           ...       ...              ...       ...        ...         ...   \n",
       "43173  21/09/2019  350000.0          Phillip      2606 -35.338702  149.084217   \n",
       "43174  23/09/2019  250000.0          Scullin      2614 -35.234051  149.042699   \n",
       "43175  23/09/2019  219000.0         O'Connor      2602 -35.264381  149.123139   \n",
       "43176  23/09/2019  320000.0           Turner      2612 -35.266120  149.126326   \n",
       "43177  23/09/2019  400000.0             City      2601 -35.282441  149.125022   \n",
       "\n",
       "       parking  bathrooms  bedrooms propertyType suburbid  \n",
       "0            2        2.0         4        house   ACT708  \n",
       "1            1        NaN         3        house   ACT706  \n",
       "2            2        NaN         4        house   ACT441  \n",
       "3            1        1.0         3        house   ACT612  \n",
       "4            2        NaN         5        house   ACT613  \n",
       "...        ...        ...       ...          ...      ...  \n",
       "43173        1        1.0         1         unit   ACT338  \n",
       "43174        1        1.0         2         unit   ACT564  \n",
       "43175        1        1.0         1         unit   ACT103  \n",
       "43176        1        1.0         1         unit   ACT105  \n",
       "43177        1        1.0         1         unit   ACT108  \n",
       "\n",
       "[43178 rows x 11 columns]"
      ]
     },
     "execution_count": 2,
     "metadata": {},
     "output_type": "execute_result"
    }
   ],
   "source": [
    "data = pd.read_csv(\"Property_Sales_Canberra_2006-2019.csv\")\n",
    "data"
   ]
  },
  {
   "cell_type": "markdown",
   "metadata": {},
   "source": [
    "## Remove Missing Value"
   ]
  },
  {
   "cell_type": "code",
   "execution_count": 3,
   "metadata": {},
   "outputs": [
    {
     "data": {
      "text/html": [
       "<div>\n",
       "<style scoped>\n",
       "    .dataframe tbody tr th:only-of-type {\n",
       "        vertical-align: middle;\n",
       "    }\n",
       "\n",
       "    .dataframe tbody tr th {\n",
       "        vertical-align: top;\n",
       "    }\n",
       "\n",
       "    .dataframe thead th {\n",
       "        text-align: right;\n",
       "    }\n",
       "</style>\n",
       "<table border=\"1\" class=\"dataframe\">\n",
       "  <thead>\n",
       "    <tr style=\"text-align: right;\">\n",
       "      <th></th>\n",
       "      <th>datesold</th>\n",
       "      <th>price</th>\n",
       "      <th>suburb</th>\n",
       "      <th>postcode</th>\n",
       "      <th>lat</th>\n",
       "      <th>lon</th>\n",
       "      <th>parking</th>\n",
       "      <th>bathrooms</th>\n",
       "      <th>bedrooms</th>\n",
       "      <th>propertyType</th>\n",
       "      <th>suburbid</th>\n",
       "    </tr>\n",
       "  </thead>\n",
       "  <tbody>\n",
       "    <tr>\n",
       "      <th>37</th>\n",
       "      <td>1/12/2006</td>\n",
       "      <td>350000.0</td>\n",
       "      <td>Gordon</td>\n",
       "      <td>2906</td>\n",
       "      <td>-35.463834</td>\n",
       "      <td>149.085331</td>\n",
       "      <td>1</td>\n",
       "      <td>2.0</td>\n",
       "      <td>3</td>\n",
       "      <td>house</td>\n",
       "      <td>ACT616</td>\n",
       "    </tr>\n",
       "    <tr>\n",
       "      <th>42</th>\n",
       "      <td>21/01/2007</td>\n",
       "      <td>450000.0</td>\n",
       "      <td>Conder</td>\n",
       "      <td>2906</td>\n",
       "      <td>-35.465751</td>\n",
       "      <td>149.111360</td>\n",
       "      <td>2</td>\n",
       "      <td>2.0</td>\n",
       "      <td>3</td>\n",
       "      <td>house</td>\n",
       "      <td>ACT613</td>\n",
       "    </tr>\n",
       "    <tr>\n",
       "      <th>44</th>\n",
       "      <td>16/02/2007</td>\n",
       "      <td>250000.0</td>\n",
       "      <td>Isabella Plains</td>\n",
       "      <td>2905</td>\n",
       "      <td>-35.425169</td>\n",
       "      <td>149.099422</td>\n",
       "      <td>1</td>\n",
       "      <td>1.0</td>\n",
       "      <td>3</td>\n",
       "      <td>house</td>\n",
       "      <td>ACT612</td>\n",
       "    </tr>\n",
       "    <tr>\n",
       "      <th>45</th>\n",
       "      <td>22/02/2007</td>\n",
       "      <td>350000.0</td>\n",
       "      <td>Gordon</td>\n",
       "      <td>2906</td>\n",
       "      <td>-35.464457</td>\n",
       "      <td>149.084241</td>\n",
       "      <td>1</td>\n",
       "      <td>2.0</td>\n",
       "      <td>3</td>\n",
       "      <td>house</td>\n",
       "      <td>ACT616</td>\n",
       "    </tr>\n",
       "    <tr>\n",
       "      <th>46</th>\n",
       "      <td>27/02/2007</td>\n",
       "      <td>290000.0</td>\n",
       "      <td>Conder</td>\n",
       "      <td>2906</td>\n",
       "      <td>-35.462270</td>\n",
       "      <td>149.109476</td>\n",
       "      <td>1</td>\n",
       "      <td>1.0</td>\n",
       "      <td>3</td>\n",
       "      <td>house</td>\n",
       "      <td>ACT613</td>\n",
       "    </tr>\n",
       "    <tr>\n",
       "      <th>...</th>\n",
       "      <td>...</td>\n",
       "      <td>...</td>\n",
       "      <td>...</td>\n",
       "      <td>...</td>\n",
       "      <td>...</td>\n",
       "      <td>...</td>\n",
       "      <td>...</td>\n",
       "      <td>...</td>\n",
       "      <td>...</td>\n",
       "      <td>...</td>\n",
       "      <td>...</td>\n",
       "    </tr>\n",
       "    <tr>\n",
       "      <th>43173</th>\n",
       "      <td>21/09/2019</td>\n",
       "      <td>350000.0</td>\n",
       "      <td>Phillip</td>\n",
       "      <td>2606</td>\n",
       "      <td>-35.338702</td>\n",
       "      <td>149.084217</td>\n",
       "      <td>1</td>\n",
       "      <td>1.0</td>\n",
       "      <td>1</td>\n",
       "      <td>unit</td>\n",
       "      <td>ACT338</td>\n",
       "    </tr>\n",
       "    <tr>\n",
       "      <th>43174</th>\n",
       "      <td>23/09/2019</td>\n",
       "      <td>250000.0</td>\n",
       "      <td>Scullin</td>\n",
       "      <td>2614</td>\n",
       "      <td>-35.234051</td>\n",
       "      <td>149.042699</td>\n",
       "      <td>1</td>\n",
       "      <td>1.0</td>\n",
       "      <td>2</td>\n",
       "      <td>unit</td>\n",
       "      <td>ACT564</td>\n",
       "    </tr>\n",
       "    <tr>\n",
       "      <th>43175</th>\n",
       "      <td>23/09/2019</td>\n",
       "      <td>219000.0</td>\n",
       "      <td>O'Connor</td>\n",
       "      <td>2602</td>\n",
       "      <td>-35.264381</td>\n",
       "      <td>149.123139</td>\n",
       "      <td>1</td>\n",
       "      <td>1.0</td>\n",
       "      <td>1</td>\n",
       "      <td>unit</td>\n",
       "      <td>ACT103</td>\n",
       "    </tr>\n",
       "    <tr>\n",
       "      <th>43176</th>\n",
       "      <td>23/09/2019</td>\n",
       "      <td>320000.0</td>\n",
       "      <td>Turner</td>\n",
       "      <td>2612</td>\n",
       "      <td>-35.266120</td>\n",
       "      <td>149.126326</td>\n",
       "      <td>1</td>\n",
       "      <td>1.0</td>\n",
       "      <td>1</td>\n",
       "      <td>unit</td>\n",
       "      <td>ACT105</td>\n",
       "    </tr>\n",
       "    <tr>\n",
       "      <th>43177</th>\n",
       "      <td>23/09/2019</td>\n",
       "      <td>400000.0</td>\n",
       "      <td>City</td>\n",
       "      <td>2601</td>\n",
       "      <td>-35.282441</td>\n",
       "      <td>149.125022</td>\n",
       "      <td>1</td>\n",
       "      <td>1.0</td>\n",
       "      <td>1</td>\n",
       "      <td>unit</td>\n",
       "      <td>ACT108</td>\n",
       "    </tr>\n",
       "  </tbody>\n",
       "</table>\n",
       "<p>41123 rows × 11 columns</p>\n",
       "</div>"
      ],
      "text/plain": [
       "         datesold     price           suburb  postcode        lat         lon  \\\n",
       "37      1/12/2006  350000.0           Gordon      2906 -35.463834  149.085331   \n",
       "42     21/01/2007  450000.0           Conder      2906 -35.465751  149.111360   \n",
       "44     16/02/2007  250000.0  Isabella Plains      2905 -35.425169  149.099422   \n",
       "45     22/02/2007  350000.0           Gordon      2906 -35.464457  149.084241   \n",
       "46     27/02/2007  290000.0           Conder      2906 -35.462270  149.109476   \n",
       "...           ...       ...              ...       ...        ...         ...   \n",
       "43173  21/09/2019  350000.0          Phillip      2606 -35.338702  149.084217   \n",
       "43174  23/09/2019  250000.0          Scullin      2614 -35.234051  149.042699   \n",
       "43175  23/09/2019  219000.0         O'Connor      2602 -35.264381  149.123139   \n",
       "43176  23/09/2019  320000.0           Turner      2612 -35.266120  149.126326   \n",
       "43177  23/09/2019  400000.0             City      2601 -35.282441  149.125022   \n",
       "\n",
       "       parking  bathrooms  bedrooms propertyType suburbid  \n",
       "37           1        2.0         3        house   ACT616  \n",
       "42           2        2.0         3        house   ACT613  \n",
       "44           1        1.0         3        house   ACT612  \n",
       "45           1        2.0         3        house   ACT616  \n",
       "46           1        1.0         3        house   ACT613  \n",
       "...        ...        ...       ...          ...      ...  \n",
       "43173        1        1.0         1         unit   ACT338  \n",
       "43174        1        1.0         2         unit   ACT564  \n",
       "43175        1        1.0         1         unit   ACT103  \n",
       "43176        1        1.0         1         unit   ACT105  \n",
       "43177        1        1.0         1         unit   ACT108  \n",
       "\n",
       "[41123 rows x 11 columns]"
      ]
     },
     "execution_count": 3,
     "metadata": {},
     "output_type": "execute_result"
    }
   ],
   "source": [
    "clean_data = data.dropna(axis='rows')\n",
    "clean_data"
   ]
  },
  {
   "cell_type": "markdown",
   "metadata": {},
   "source": [
    "## Descriptive Statistics"
   ]
  },
  {
   "cell_type": "markdown",
   "metadata": {},
   "source": [
    "### Univariate"
   ]
  },
  {
   "cell_type": "code",
   "execution_count": 4,
   "metadata": {},
   "outputs": [
    {
     "data": {
      "text/plain": [
       "count    4.112300e+04\n",
       "mean     6.058733e+05\n",
       "std      3.149450e+05\n",
       "min      5.000000e+04\n",
       "25%      4.300000e+05\n",
       "50%      5.400000e+05\n",
       "75%      6.800000e+05\n",
       "max      8.000000e+06\n",
       "Name: price, dtype: float64"
      ]
     },
     "execution_count": 4,
     "metadata": {},
     "output_type": "execute_result"
    }
   ],
   "source": [
    "clean_data['price'].describe()"
   ]
  },
  {
   "cell_type": "code",
   "execution_count": 5,
   "metadata": {},
   "outputs": [
    {
     "data": {
      "text/plain": [
       "count    41123.000000\n",
       "mean         1.759016\n",
       "std          0.941970\n",
       "min          0.000000\n",
       "25%          1.000000\n",
       "50%          2.000000\n",
       "75%          2.000000\n",
       "max         31.000000\n",
       "Name: parking, dtype: float64"
      ]
     },
     "execution_count": 5,
     "metadata": {},
     "output_type": "execute_result"
    }
   ],
   "source": [
    "clean_data['parking'].describe()"
   ]
  },
  {
   "cell_type": "code",
   "execution_count": 6,
   "metadata": {},
   "outputs": [
    {
     "data": {
      "text/plain": [
       "count    41123.000000\n",
       "mean         1.638815\n",
       "std          0.644671\n",
       "min          1.000000\n",
       "25%          1.000000\n",
       "50%          2.000000\n",
       "75%          2.000000\n",
       "max         21.000000\n",
       "Name: bathrooms, dtype: float64"
      ]
     },
     "execution_count": 6,
     "metadata": {},
     "output_type": "execute_result"
    }
   ],
   "source": [
    "clean_data['bathrooms'].describe()"
   ]
  },
  {
   "cell_type": "code",
   "execution_count": 7,
   "metadata": {},
   "outputs": [
    {
     "data": {
      "text/plain": [
       "count    41123.000000\n",
       "mean         3.186878\n",
       "std          0.988761\n",
       "min          0.000000\n",
       "25%          3.000000\n",
       "50%          3.000000\n",
       "75%          4.000000\n",
       "max         12.000000\n",
       "Name: bedrooms, dtype: float64"
      ]
     },
     "execution_count": 7,
     "metadata": {},
     "output_type": "execute_result"
    }
   ],
   "source": [
    "clean_data['bedrooms'].describe()"
   ]
  },
  {
   "cell_type": "markdown",
   "metadata": {},
   "source": [
    "### Multivariate"
   ]
  },
  {
   "cell_type": "code",
   "execution_count": 8,
   "metadata": {},
   "outputs": [],
   "source": [
    "# Membuat data frame untuk multivariate statistik\n",
    "data_multivariate = pd.DataFrame(clean_data,columns=['price','bathrooms','bedrooms','parking'])"
   ]
  },
  {
   "cell_type": "code",
   "execution_count": 9,
   "metadata": {},
   "outputs": [
    {
     "data": {
      "image/png": "[encoded data removed]",
      "text/plain": [
       "<Figure size 576x432 with 2 Axes>"
      ]
     },
     "metadata": {
      "needs_background": "light"
     },
     "output_type": "display_data"
    }
   ],
   "source": [
    "# Membuat correlation matrix\n",
    "plt.figure(figsize=(8,6))\n",
    "corrMatrix = data_multivariate.corr()\n",
    "sn.heatmap(corrMatrix, annot=True)\n",
    "plt.show()"
   ]
  },
  {
   "cell_type": "markdown",
   "metadata": {},
   "source": [
    "## Visualization"
   ]
  },
  {
   "cell_type": "code",
   "execution_count": 10,
   "metadata": {},
   "outputs": [
    {
     "data": {
      "image/png": "[encoded data removed]",
      "text/plain": [
       "<Figure size 720x576 with 1 Axes>"
      ]
     },
     "metadata": {
      "needs_background": "light"
     },
     "output_type": "display_data"
    }
   ],
   "source": [
    "# Histogram dari atribut price\n",
    "plt.figure(figsize=(10,8))\n",
    "price = plt.hist(clean_data['price'],bins = 10)\n",
    "plt.title(\"Jumlah Distribusi Dari Atribut Price\")\n",
    "plt.ticklabel_format(style='plain')\n",
    "\n",
    "for i in range(10):\n",
    "    plt.text(price[1][i],price[0][i],str(price[0][i]))"
   ]
  },
  {
   "cell_type": "code",
   "execution_count": 11,
   "metadata": {},
   "outputs": [
    {
     "data": {
      "image/png": "[encoded data removed]",
      "text/plain": [
       "<Figure size 720x576 with 1 Axes>"
      ]
     },
     "metadata": {
      "needs_background": "light"
     },
     "output_type": "display_data"
    }
   ],
   "source": [
    "# Menunjukkan jumlah distribusi atribut bathrooms\n",
    "plt.figure(figsize=(10,8))\n",
    "bath = plt.hist(clean_data['bathrooms'],bins = 10)\n",
    "plt.title(\"Jumlah Distribusi Dari Atribut Bathrooms\")\n",
    "\n",
    "for i in range(10):\n",
    "    plt.text(bath[1][i],bath[0][i],str(bath[0][i]))"
   ]
  },
  {
   "cell_type": "code",
   "execution_count": 12,
   "metadata": {},
   "outputs": [
    {
     "data": {
      "image/png": "[encoded data removed]",
      "text/plain": [
       "<Figure size 720x576 with 1 Axes>"
      ]
     },
     "metadata": {
      "needs_background": "light"
     },
     "output_type": "display_data"
    }
   ],
   "source": [
    "# Menunjukkan jumlah distribusi dari atribut bedrooms\n",
    "plt.figure(figsize=(10,8))\n",
    "bed = plt.hist(clean_data['bedrooms'],bins = 10)\n",
    "plt.title(\"Jumlah Distribusi Dari Atribut Bedrooms\")\n",
    "\n",
    "for i in range(10):\n",
    "    plt.text(bed[1][i],bed[0][i],str(bed[0][i]))"
   ]
  },
  {
   "cell_type": "code",
   "execution_count": 13,
   "metadata": {},
   "outputs": [
    {
     "data": {
      "image/png": "[encoded data removed]",
      "text/plain": [
       "<Figure size 720x576 with 1 Axes>"
      ]
     },
     "metadata": {
      "needs_background": "light"
     },
     "output_type": "display_data"
    }
   ],
   "source": [
    "# Menunjukkan jumlah distribusi dari atribut parking\n",
    "plt.figure(figsize=(10,8))\n",
    "park = plt.hist(clean_data['parking'],bins = 10)\n",
    "plt.title(\"Jumlah Distribusi Dari Atribut Parking\")\n",
    "\n",
    "for i in range(10):\n",
    "    plt.text(park[1][i],park[0][i],str(park[0][i]))"
   ]
  },
  {
   "cell_type": "code",
   "execution_count": 14,
   "metadata": {},
   "outputs": [
    {
     "data": {
      "image/png": "[encoded data removed]",
      "text/plain": [
       "<Figure size 720x576 with 1 Axes>"
      ]
     },
     "metadata": {
      "needs_background": "light"
     },
     "output_type": "display_data"
    }
   ],
   "source": [
    "# Menunjukkan hubungan antara jumlah garasi, kamar mandi, dan kamar tidur dengan harga dari properti\n",
    "plt.figure(figsize=(10,8))\n",
    "\n",
    "bat_price = plt.scatter(clean_data['price'], clean_data['bathrooms'])\n",
    "bed_price = plt.scatter(clean_data['price'], clean_data['bedrooms'], color='r')\n",
    "park_price = plt.scatter(clean_data['price'], clean_data['parking'], color='black')\n",
    "\n",
    "plt.title('Hubungan Antara Jumlah Garasi, Kamar Mandi, dan Kamar Tidur Dengan Harga Dari Properti', fontsize=14)\n",
    "plt.ticklabel_format(style='plain')\n",
    "plt.legend((bat_price, bed_price, park_price),\n",
    "           ('Bathrooms', 'Bedrooms', 'Parking'),\n",
    "           scatterpoints=1,\n",
    "           loc='upper right',\n",
    "           ncol=3,\n",
    "           fontsize=8)\n",
    "plt.show()"
   ]
  },
  {
   "cell_type": "code",
   "execution_count": 15,
   "metadata": {},
   "outputs": [
    {
     "name": "stderr",
     "output_type": "stream",
     "text": [
      "<ipython-input-15-2e466678c402>:4: SettingWithCopyWarning: \n",
      "A value is trying to be set on a copy of a slice from a DataFrame.\n",
      "Try using .loc[row_indexer,col_indexer] = value instead\n",
      "\n",
      "See the caveats in the documentation: http://pandas.pydata.org/pandas-docs/stable/user_guide/indexing.html#returning-a-view-versus-a-copy\n",
      "  data_price_year['year'] = pd.DatetimeIndex(data_price_year['datesold']).year\n"
     ]
    },
    {
     "data": {
      "image/png": "[encoded data removed]",
      "text/plain": [
       "<Figure size 720x576 with 1 Axes>"
      ]
     },
     "metadata": {
      "needs_background": "light"
     },
     "output_type": "display_data"
    }
   ],
   "source": [
    "# Menunjukkan hubungan antara tahun penjualan dengan harga dari properti\n",
    "import datetime\n",
    "data_price_year = clean_data[['datesold','price']]\n",
    "data_price_year['year'] = pd.DatetimeIndex(data_price_year['datesold']).year\n",
    "plt.figure(figsize=(10,8))\n",
    "plt.title('Hubungan Antara Tahun Penjualan dengan Harga Dari Properti', fontsize=14)\n",
    "plt.ticklabel_format(style='plain')\n",
    "plt.scatter(data_price_year['year'], data_price_year['price']);"
   ]
  },
  {
   "cell_type": "markdown",
   "metadata": {},
   "source": [
    "# Modeling"
   ]
  },
  {
   "cell_type": "markdown",
   "metadata": {},
   "source": [
    "## Splitting data"
   ]
  },
  {
   "cell_type": "code",
   "execution_count": 16,
   "metadata": {},
   "outputs": [],
   "source": [
    "#Membagi data menjadi 70% data training dan 30% data test\n",
    "data_modeling = clean_data[['bathrooms', 'bedrooms', 'parking', 'price', 'propertyType']]\n",
    "feature_cols = ['bathrooms', 'bedrooms', 'parking', 'price']\n",
    "# Features\n",
    "X = data_modeling [feature_cols] \n",
    "\n",
    "# Target Variable\n",
    "y = data_modeling.propertyType \n",
    "\n",
    "from sklearn.model_selection import train_test_split\n",
    "\n",
    "X_train, X_test, y_train, y_test = train_test_split(X, y, test_size=0.3, random_state=1)"
   ]
  },
  {
   "cell_type": "markdown",
   "metadata": {},
   "source": [
    "## Feature Scaling"
   ]
  },
  {
   "cell_type": "code",
   "execution_count": 17,
   "metadata": {},
   "outputs": [],
   "source": [
    "# Feature Scaling untuk Naïve Bayes dan Artificial Neural Network\n",
    "from sklearn.preprocessing import StandardScaler\n",
    "sc = StandardScaler()\n",
    "X_train = sc.fit_transform(X_train)\n",
    "X_test = sc.transform(X_test)"
   ]
  },
  {
   "cell_type": "markdown",
   "metadata": {},
   "source": [
    "## Decision Tree"
   ]
  },
  {
   "cell_type": "code",
   "execution_count": 18,
   "metadata": {},
   "outputs": [],
   "source": [
    "from sklearn.tree import DecisionTreeClassifier \n",
    "from sklearn.model_selection import train_test_split\n",
    "from sklearn import metrics"
   ]
  },
  {
   "cell_type": "code",
   "execution_count": 19,
   "metadata": {},
   "outputs": [],
   "source": [
    "#Create a Decision Tree Classifier\n",
    "clf = DecisionTreeClassifier(max_depth=8)\n",
    "\n",
    "#Train the model using the training sets\n",
    "clf = clf.fit(X_train,y_train)\n",
    "\n",
    "#Predict the response for test dataset\n",
    "y_pred = clf.predict(X_test)"
   ]
  },
  {
   "cell_type": "markdown",
   "metadata": {},
   "source": [
    "## Decision Tree Model Evaluation"
   ]
  },
  {
   "cell_type": "code",
   "execution_count": 20,
   "metadata": {},
   "outputs": [
    {
     "name": "stdout",
     "output_type": "stream",
     "text": [
      "Confusion Matrix:\n"
     ]
    },
    {
     "data": {
      "image/png": "[encoded data removed]",
      "text/plain": [
       "<Figure size 576x432 with 2 Axes>"
      ]
     },
     "metadata": {
      "needs_background": "light"
     },
     "output_type": "display_data"
    },
    {
     "name": "stdout",
     "output_type": "stream",
     "text": [
      "Accuracy: 0.9186998459917322\n",
      "Classification Report:\n",
      "              precision    recall  f1-score   support\n",
      "\n",
      "       house       0.94      0.97      0.95     10370\n",
      "        unit       0.79      0.66      0.72      1967\n",
      "\n",
      "    accuracy                           0.92     12337\n",
      "   macro avg       0.87      0.81      0.84     12337\n",
      "weighted avg       0.91      0.92      0.92     12337\n",
      "\n"
     ]
    }
   ],
   "source": [
    "# Confusion Matrix\n",
    "plt.figure(figsize=(8,6))\n",
    "print('Confusion Matrix:')\n",
    "tree = (metrics.confusion_matrix(y_test, y_pred))\n",
    "sn.heatmap(tree, annot=True, fmt=\".0f\")\n",
    "plt.show()\n",
    "\n",
    "# Accuracy\n",
    "print(\"Accuracy:\",metrics.accuracy_score(y_test, y_pred))\n",
    "\n",
    "# Classification Report \n",
    "print('Classification Report:')\n",
    "print(metrics.classification_report(y_test,y_pred))"
   ]
  },
  {
   "cell_type": "markdown",
   "metadata": {},
   "source": [
    "## Naïve Bayes"
   ]
  },
  {
   "cell_type": "code",
   "execution_count": 21,
   "metadata": {},
   "outputs": [],
   "source": [
    "from sklearn.naive_bayes import GaussianNB\n",
    "\n",
    "#Create a Gaussian Classifier\n",
    "gnb = GaussianNB()\n",
    "\n",
    "#Train the model using the training sets\n",
    "gnb.fit(X_train, y_train)\n",
    "\n",
    "#Predict the response for test dataset\n",
    "y_pred = gnb.predict(X_test)"
   ]
  },
  {
   "cell_type": "markdown",
   "metadata": {},
   "source": [
    "## Naïve Bayes Model Evaluation"
   ]
  },
  {
   "cell_type": "code",
   "execution_count": 22,
   "metadata": {},
   "outputs": [
    {
     "name": "stdout",
     "output_type": "stream",
     "text": [
      "Confusion Matrix:\n"
     ]
    },
    {
     "data": {
      "image/png": "[encoded data removed]",
      "text/plain": [
       "<Figure size 576x432 with 2 Axes>"
      ]
     },
     "metadata": {
      "needs_background": "light"
     },
     "output_type": "display_data"
    },
    {
     "name": "stdout",
     "output_type": "stream",
     "text": [
      "Accuracy: 0.9084056091432277\n",
      "Classification Report:\n",
      "              precision    recall  f1-score   support\n",
      "\n",
      "       house       0.96      0.93      0.94     10370\n",
      "        unit       0.68      0.79      0.73      1967\n",
      "\n",
      "    accuracy                           0.91     12337\n",
      "   macro avg       0.82      0.86      0.84     12337\n",
      "weighted avg       0.92      0.91      0.91     12337\n",
      "\n"
     ]
    }
   ],
   "source": [
    "# Confusion Matrix\n",
    "plt.figure(figsize=(8,6))\n",
    "print('Confusion Matrix:')\n",
    "nb = (metrics.confusion_matrix(y_test, y_pred))\n",
    "sn.heatmap(nb, annot=True, fmt=\".0f\")\n",
    "plt.show()\n",
    "\n",
    "# Accuracy\n",
    "print(\"Accuracy:\",metrics.accuracy_score(y_test, y_pred))\n",
    "\n",
    "# Classification Report \n",
    "print('Classification Report:')\n",
    "print(metrics.classification_report(y_test,y_pred))"
   ]
  },
  {
   "cell_type": "markdown",
   "metadata": {},
   "source": [
    "## Artificial Neural Network"
   ]
  },
  {
   "cell_type": "code",
   "execution_count": 23,
   "metadata": {},
   "outputs": [],
   "source": [
    "import sklearn.neural_network\n",
    "\n",
    "# Create a model\n",
    "ann = sklearn.neural_network.MLPClassifier(hidden_layer_sizes=(100, ), activation='relu', solver='adam', \n",
    "                                                 alpha=0.0001, batch_size='auto', learning_rate='constant', learning_rate_init=0.001, power_t=0.5, \n",
    "                                                 max_iter=1000, shuffle=True, random_state=42, tol=0.0001, verbose=False, warm_start=False, momentum=0.9, \n",
    "                                                 nesterovs_momentum=True, early_stopping=False, validation_fraction=0.1, beta_1=0.9, beta_2=0.999, epsilon=1e-08, \n",
    "                                                 n_iter_no_change=10)\n",
    "# Train the model on the whole data set\n",
    "ann.fit(X_train, y_train)\n",
    "\n",
    "#Predict the response for test dataset\n",
    "y_pred = ann.predict(X_test)"
   ]
  },
  {
   "cell_type": "markdown",
   "metadata": {},
   "source": [
    "## Artificial Neural Network Model Evaluation"
   ]
  },
  {
   "cell_type": "code",
   "execution_count": 24,
   "metadata": {},
   "outputs": [
    {
     "name": "stdout",
     "output_type": "stream",
     "text": [
      "Confusion Matrix:\n"
     ]
    },
    {
     "data": {
      "image/png": "[encoded data removed]",
      "text/plain": [
       "<Figure size 576x432 with 2 Axes>"
      ]
     },
     "metadata": {
      "needs_background": "light"
     },
     "output_type": "display_data"
    },
    {
     "name": "stdout",
     "output_type": "stream",
     "text": [
      "Accuracy: 0.9168355353813731\n",
      "Classification Report:\n",
      "              precision    recall  f1-score   support\n",
      "\n",
      "       house       0.96      0.94      0.95     10370\n",
      "        unit       0.71      0.82      0.76      1967\n",
      "\n",
      "    accuracy                           0.92     12337\n",
      "   macro avg       0.84      0.88      0.85     12337\n",
      "weighted avg       0.92      0.92      0.92     12337\n",
      "\n"
     ]
    }
   ],
   "source": [
    "# Confusion Matrix\n",
    "plt.figure(figsize=(8,6))\n",
    "print('Confusion Matrix:')\n",
    "ann = (metrics.confusion_matrix(y_test, y_pred))\n",
    "sn.heatmap(ann, annot=True, fmt=\".0f\")\n",
    "plt.show()\n",
    "\n",
    "# Accuracy\n",
    "print(\"Accuracy:\",metrics.accuracy_score(y_test, y_pred))\n",
    "\n",
    "# Classification Report \n",
    "print('Classification Report:')\n",
    "print(metrics.classification_report(y_test,y_pred))"
   ]
  }
 ],
 "metadata": {
  "kernelspec": {
   "display_name": "Python 3",
   "language": "python",
   "name": "python3"
  },
  "language_info": {
   "codemirror_mode": {
    "name": "ipython",
    "version": 3
   },
   "file_extension": ".py",
   "mimetype": "text/x-python",
   "name": "python",
   "nbconvert_exporter": "python",
   "pygments_lexer": "ipython3",
   "version": "3.8.5"
  }
 },
 "nbformat": 4,
 "nbformat_minor": 4
}
